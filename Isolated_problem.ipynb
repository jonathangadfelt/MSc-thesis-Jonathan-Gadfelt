{
 "cells": [
  {
   "cell_type": "markdown",
   "id": "82e95d37",
   "metadata": {},
   "source": [
    "Load packages"
   ]
  },
  {
   "cell_type": "code",
   "execution_count": 1,
   "id": "904c2119",
   "metadata": {},
   "outputs": [],
   "source": [
    "import pandas as pd\n",
    "import matplotlib.pyplot as plt\n",
    "import numpy as np\n",
    "import os\n",
    "import pypsa\n",
    "import sys\n",
    "import logging\n",
    "from contextlib import redirect_stdout\n",
    "import tqdm\n",
    "from pathlib import Path\n",
    "from typing import Sequence, Any\n",
    "from pypsa import Network\n",
    "import logging\n",
    "from types import MethodType\n",
    "logger = logging.getLogger(__name__)\n",
    "\n",
    "\n",
    "np.set_printoptions(suppress=True)"
   ]
  },
  {
   "cell_type": "markdown",
   "id": "b2b76535",
   "metadata": {},
   "source": [
    "# Load used functions"
   ]
  },
  {
   "cell_type": "code",
   "execution_count": null,
   "id": "c7cf3778",
   "metadata": {},
   "outputs": [],
   "source": [
    "# Load cost and data\n",
    "def load_all_data():\n",
    "    data = {\n",
    "        \"solar\": pd.read_csv(\"Data/pv_optimal_NOR_ESP.csv\", sep=\";\", index_col=0, parse_dates=True),\n",
    "        \"onwind\": pd.read_csv(\"Data/onshore_wind_1979-2017_NOR_ESP.csv\", sep=\";\", index_col=0, parse_dates=True),\n",
    "        \"offwind\": pd.read_csv(\"Data/offshore_wind_1979-2017_NOR.csv\", sep=\";\", index_col=0, parse_dates=True),\n",
    "        \"demand\": pd.read_csv(\"Data/load_data_actual_NOR_ES.csv\", sep=\";\", index_col=0, parse_dates=True)\n",
    "    }\n",
    "\n",
    "    # Rename demand columns to standard naming\n",
    "    data[\"demand\"] = data[\"demand\"].rename(columns={\n",
    "        \"NO_load_actual_entsoe_transparency\": \"NOR\",\n",
    "        \"ES_load_actual_entsoe_transparency\": \"ESP\"\n",
    "    })\n",
    "    data[\"demand\"] = data[\"demand\"].ffill().bfill()\n",
    "\n",
    "    # Load and convert hydro inflow data to hourly MW\n",
    "    def convert_hydro_to_hourly(path, label):\n",
    "        df = pd.read_csv(path)\n",
    "        df['date'] = pd.to_datetime(df[['Year', 'Month', 'Day']])\n",
    "        df = df[df['date'].dt.strftime('%m-%d') != '02-29']\n",
    "        df['Hourly_MW'] = round(df['Inflow [GWh]'] * 1000 / 24)  # Convert GWh to MW and distribute evenly across 24 hours\n",
    "        df_hourly = pd.DataFrame({\n",
    "            'datetime': df['date'].repeat(24) + pd.to_timedelta(list(range(24)) * len(df), unit='h'),\n",
    "            label: df['Hourly_MW'].repeat(24).values\n",
    "        })\n",
    "        df_hourly = df_hourly.set_index('datetime')\n",
    "        return df_hourly\n",
    "\n",
    "    es_hourly = convert_hydro_to_hourly(\"Data/Hydro_Inflow_ES.csv\", 'ESP')\n",
    "    no_hourly = convert_hydro_to_hourly(\"Data/Hydro_Inflow_NO.csv\", 'NOR')\n",
    "\n",
    "    hydro_inflow = pd.concat([es_hourly, no_hourly], axis=1)\n",
    "    data[\"hydro_inflow\"] = hydro_inflow\n",
    "\n",
    "    return data\n",
    "\n",
    "class CostGeneration:\n",
    "    def __init__(self, year: int = 2020):\n",
    "        self.year = year\n",
    "        self.costs, self.units = self.cost_data()\n",
    "\n",
    "    def cost_data(self):\n",
    "        url = f\"https://raw.githubusercontent.com/PyPSA/technology-data/master/outputs/costs_{self.year}.csv\"\n",
    "        df = pd.read_csv(url, index_col=[0, 1])\n",
    "\n",
    "        df.loc[df.unit.str.contains(\"/kW\"), \"value\"] *= 1e3\n",
    "        df.unit = df.unit.str.replace(\"/kW\", \"/MW\")\n",
    "\n",
    "        # Save units before dropping\n",
    "        unit_df = df[\"unit\"].copy()\n",
    "        \n",
    "        defaults = {\n",
    "            \"FOM\": 0,\n",
    "            \"VOM\": 0,\n",
    "            \"efficiency\": 1,\n",
    "            \"fuel\": 0,\n",
    "            \"investment\": 0,\n",
    "            \"lifetime\": 25,\n",
    "            \"CO2 intensity\": 0,\n",
    "            \"discount rate\": 0.07,\n",
    "        }\n",
    "\n",
    "        costs = df.value.unstack().fillna(defaults)\n",
    "\n",
    "        costs.at[\"OCGT\", \"fuel\"] = costs.at[\"gas\", \"fuel\"]\n",
    "        costs.at[\"CCGT\", \"fuel\"] = costs.at[\"gas\", \"fuel\"]\n",
    "        costs.at[\"OCGT\", \"CO2 intensity\"] = costs.at[\"gas\", \"CO2 intensity\"]\n",
    "        costs.at[\"CCGT\", \"CO2 intensity\"] = costs.at[\"gas\", \"CO2 intensity\"]\n",
    "\n",
    "        #costs.at[\"onwind\", \"VOM\"] = 2.06\n",
    "        #costs.at[\"offwind\", \"VOM\"] = 4.41\n",
    "\n",
    "        costs[\"marginal_cost\"] = costs[\"VOM\"] + costs[\"fuel\"] / costs[\"efficiency\"]\n",
    "        annuity = costs.apply(lambda x: self.annuity(x[\"discount rate\"], x[\"lifetime\"]), axis=1)\n",
    "        costs[\"capital_cost\"] = (annuity + costs[\"FOM\"] / 100) * costs[\"investment\"]\n",
    "\n",
    "\n",
    "        return costs, unit_df\n",
    "\n",
    "    @staticmethod\n",
    "    def annuity(r, n):\n",
    "        \"\"\" Calculate the annuity factor for an asset with lifetime n years and\n",
    "        discount rate r \"\"\"\n",
    "        return r / (1.0 - 1.0 / (1.0 + r) ** n)\n",
    "\n",
    "All_data = load_all_data()\n",
    "Cost = CostGeneration(year=2025)"
   ]
  },
  {
   "cell_type": "code",
   "execution_count": null,
   "id": "7c44ed6c",
   "metadata": {},
   "outputs": [],
   "source": [
    "# Rolling horizon function edited to include total objective value\n",
    "def optimize_with_rolling_horizon_collect(self, snapshots=None, horizon=100, overlap=0, **kwargs):\n",
    "    \"\"\"\n",
    "    Custom rolling horizon optimization that also collects objectives\n",
    "    and stores them in n.attrs.\n",
    "    \"\"\"\n",
    "    n = self.n   # <- works for your PyPSA version\n",
    "\n",
    "    if snapshots is None:\n",
    "        snapshots = n.snapshots\n",
    "\n",
    "    if horizon <= overlap:\n",
    "        raise ValueError(\"overlap must be smaller than horizon\")\n",
    "\n",
    "    objs, runs = [], []\n",
    "\n",
    "    for i in range(0, len(snapshots), horizon - overlap):\n",
    "        start = i\n",
    "        end = min(len(snapshots), i + horizon)\n",
    "        sns = snapshots[start:end]\n",
    "\n",
    "        if i:\n",
    "            if not n.stores.empty:\n",
    "                n.stores.e_initial = n.stores_t.e.loc[snapshots[start - 1]]\n",
    "            if not n.storage_units.empty:\n",
    "                n.storage_units.state_of_charge_initial = (\n",
    "                    n.storage_units_t.state_of_charge.loc[snapshots[start - 1]]\n",
    "                )\n",
    "\n",
    "        status, condition = n.optimize(sns, **kwargs)\n",
    "\n",
    "        if status != \"ok\":\n",
    "            logger.warning(\n",
    "                \"Optimization failed with status %s and condition %s\",\n",
    "                status, condition\n",
    "            )\n",
    "\n",
    "        if hasattr(n, \"objective\"):\n",
    "            objs.append(n.objective)\n",
    "            runs.append({\"run\": i + 1, \"start\": sns[0], \"end\": sns[-1]})\n",
    "\n",
    "    # Save to attrs so it survives export_to_netcdf\n",
    "    n.generators.attrs[\"rolling_objectives\"] = objs\n",
    "    n.generators.attrs[\"rolling_runs\"] = runs\n",
    "\n",
    "    return n\n"
   ]
  },
  {
   "cell_type": "code",
   "execution_count": null,
   "id": "c451219d",
   "metadata": {},
   "outputs": [],
   "source": [
    "# Plotting functions"
   ]
  },
  {
   "cell_type": "markdown",
   "id": "ec881614",
   "metadata": {},
   "source": [
    "# Load dispatch model"
   ]
  },
  {
   "cell_type": "code",
   "execution_count": null,
   "id": "2a86012d",
   "metadata": {},
   "outputs": [],
   "source": []
  },
  {
   "cell_type": "markdown",
   "id": "bf28eca1",
   "metadata": {},
   "source": [
    "# Running the model"
   ]
  },
  {
   "cell_type": "markdown",
   "id": "f9231f4b",
   "metadata": {},
   "source": [
    "## Example 1 with gas, solar, wind and hydro"
   ]
  },
  {
   "cell_type": "code",
   "execution_count": null,
   "id": "10235fbc",
   "metadata": {},
   "outputs": [],
   "source": []
  },
  {
   "cell_type": "code",
   "execution_count": null,
   "id": "d0bfdf94",
   "metadata": {},
   "outputs": [],
   "source": []
  }
 ],
 "metadata": {
  "kernelspec": {
   "display_name": "Python 3",
   "language": "python",
   "name": "python3"
  },
  "language_info": {
   "codemirror_mode": {
    "name": "ipython",
    "version": 3
   },
   "file_extension": ".py",
   "mimetype": "text/x-python",
   "name": "python",
   "nbconvert_exporter": "python",
   "pygments_lexer": "ipython3",
   "version": "3.11.9"
  }
 },
 "nbformat": 4,
 "nbformat_minor": 5
}
