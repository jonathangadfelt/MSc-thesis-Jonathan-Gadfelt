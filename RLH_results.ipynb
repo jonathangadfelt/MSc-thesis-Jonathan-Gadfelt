{
 "cells": [
  {
   "cell_type": "markdown",
   "id": "269de9a6",
   "metadata": {},
   "source": [
    "# Read and load results"
   ]
  },
  {
   "cell_type": "code",
   "execution_count": 2,
   "id": "35f4861b",
   "metadata": {},
   "outputs": [],
   "source": [
    "from functions import *\n",
    "from Classes import *\n",
    "\n",
    "# Define the use technologies and regions(s)\n",
    "region = 'ESP'  \n",
    "setup = {\n",
    "    f'{region}': {\n",
    "        'OCGT': True,\n",
    "        'CCGT': False,\n",
    "        'battery storage': True,\n",
    "        'onwind': True,\n",
    "        'offwind': False,\n",
    "        'solar': True,\n",
    "        'electrolysis': True,\n",
    "        'fuel cell': True,\n",
    "        'Hydrogen storage': True,\n",
    "        'Reservoir hydro storage': True,\n",
    "        'Load shedding': False\n",
    "    }\n",
    "}\n",
    "\n",
    "# Default weather, hydro and demand years\n",
    "w_year_exp = 2011\n",
    "h_year_exp = 2007\n",
    "d_year_exp = 2018\n",
    "\n",
    "# Dispatch and rolling horizon settings\n",
    "w_year_dispatch = 2017\n",
    "h_year_dispatch = 2007\n",
    "d_year_dispatch = 2019\n",
    "\n",
    "weather_years = All_data['solar'].index.year.unique()\n"
   ]
  },
  {
   "cell_type": "code",
   "execution_count": null,
   "id": "469ee30d",
   "metadata": {},
   "outputs": [],
   "source": [
    "folder_rh = f\"N_RH_d_{d_year_dispatch}_hMC\"\n",
    "folder_pf = f\"N_PF_d_{d_year_dispatch}_hMC\"\n",
    "\n",
    "networks_rh = load_networks(folder_name = folder_rh, weather_years = weather_years)\n",
    "networks_pf = load_networks(folder_name = folder_pf, weather_years = weather_years)"
   ]
  },
  {
   "cell_type": "code",
   "execution_count": null,
   "id": "5dae67fd",
   "metadata": {},
   "outputs": [
    {
     "data": {
      "text/plain": [
       "['N_RHL_w-1979_d-2019_h-2007_ESP_hMC',\n",
       " 'N_RHL_w-1980_d-2019_h-2007_ESP_hMC',\n",
       " 'N_RHL_w-1981_d-2019_h-2007_ESP_hMC',\n",
       " 'N_RHL_w-1982_d-2019_h-2007_ESP_hMC',\n",
       " 'N_RHL_w-1983_d-2019_h-2007_ESP_hMC',\n",
       " 'N_RHL_w-1984_d-2019_h-2007_ESP_hMC',\n",
       " 'N_RHL_w-1985_d-2019_h-2007_ESP_hMC',\n",
       " 'N_RHL_w-1986_d-2019_h-2007_ESP_hMC',\n",
       " 'N_RHL_w-1987_d-2019_h-2007_ESP_hMC',\n",
       " 'N_RHL_w-1988_d-2019_h-2007_ESP_hMC',\n",
       " 'N_RHL_w-1989_d-2019_h-2007_ESP_hMC',\n",
       " 'N_RHL_w-1990_d-2019_h-2007_ESP_hMC',\n",
       " 'N_RHL_w-1991_d-2019_h-2007_ESP_hMC',\n",
       " 'N_RHL_w-1992_d-2019_h-2007_ESP_hMC',\n",
       " 'N_RHL_w-1993_d-2019_h-2007_ESP_hMC',\n",
       " 'N_RHL_w-1994_d-2019_h-2007_ESP_hMC',\n",
       " 'N_RHL_w-1995_d-2019_h-2007_ESP_hMC',\n",
       " 'N_RHL_w-1996_d-2019_h-2007_ESP_hMC',\n",
       " 'N_RHL_w-1997_d-2019_h-2007_ESP_hMC',\n",
       " 'N_RHL_w-1998_d-2019_h-2007_ESP_hMC',\n",
       " 'N_RHL_w-1999_d-2019_h-2007_ESP_hMC',\n",
       " 'N_RHL_w-2000_d-2019_h-2007_ESP_hMC',\n",
       " 'N_RHL_w-2001_d-2019_h-2007_ESP_hMC',\n",
       " 'N_RHL_w-2002_d-2019_h-2007_ESP_hMC',\n",
       " 'N_RHL_w-2003_d-2019_h-2007_ESP_hMC',\n",
       " 'N_RHL_w-2004_d-2019_h-2007_ESP_hMC',\n",
       " 'N_RHL_w-2005_d-2019_h-2007_ESP_hMC',\n",
       " 'N_RHL_w-2006_d-2019_h-2007_ESP_hMC',\n",
       " 'N_RHL_w-2007_d-2019_h-2007_ESP_hMC',\n",
       " 'N_RHL_w-2008_d-2019_h-2007_ESP_hMC',\n",
       " 'N_RHL_w-2009_d-2019_h-2007_ESP_hMC',\n",
       " 'N_RHL_w-2010_d-2019_h-2007_ESP_hMC',\n",
       " 'N_RHL_w-2011_d-2019_h-2007_ESP_hMC',\n",
       " 'N_RHL_w-2012_d-2019_h-2007_ESP_hMC',\n",
       " 'N_RHL_w-2013_d-2019_h-2007_ESP_hMC',\n",
       " 'N_RHL_w-2014_d-2019_h-2007_ESP_hMC',\n",
       " 'N_RHL_w-2015_d-2019_h-2007_ESP_hMC',\n",
       " 'N_RHL_w-2016_d-2019_h-2007_ESP_hMC',\n",
       " 'N_RHL_w-2017_d-2019_h-2007_ESP_hMC']"
      ]
     },
     "execution_count": 7,
     "metadata": {},
     "output_type": "execute_result"
    }
   ],
   "source": []
  },
  {
   "cell_type": "markdown",
   "id": "38d4a652",
   "metadata": {},
   "source": [
    "# Build df and tables to store results"
   ]
  },
  {
   "cell_type": "code",
   "execution_count": null,
   "id": "4913adda",
   "metadata": {},
   "outputs": [],
   "source": [
    "if len(names_pf) != len(names_rh):\n",
    "    print(\"Warning: The number of loaded PF and RH networks do not match!\")\n",
    "\n",
    "# Results loop (pairs by index order; both lists are alphabetically sorted by filename)\n",
    "results = []\n",
    "for i, (name_pf, name_rh) in enumerate(zip(names_pf, names_rh)):\n",
    "    pf_net = networks_pf[name_pf]\n",
    "    rh_net = networks_rh[name_rh]\n",
    "\n",
    "    pf_cost = (pf_net.buses_t['marginal_price'][\"electricity bus\"].values *\n",
    "               pf_net.loads_t['p_set']['load']).sum() / 1e6\n",
    "    rh_cost = (rh_net.buses_t['marginal_price'][\"electricity bus\"].values *\n",
    "               rh_net.loads_t['p_set']['load']).sum() / 1e6\n",
    "    diff = rh_cost - pf_cost\n",
    "\n",
    "    # Load shedding cost (present only if the generator exists)\n",
    "    ls_pf = ((pf_net.generators_t.p[\"Load shedding\"] *\n",
    "              pf_net.generators.at[\"Load shedding\", \"marginal_cost\"]).sum() / 1e6\n",
    "             if \"Load shedding\" in pf_net.generators.index else 0.0)\n",
    "\n",
    "    ls_rh = ((rh_net.generators_t.p[\"Load shedding\"] *\n",
    "              rh_net.generators.at[\"Load shedding\", \"marginal_cost\"]).sum() / 1e6\n",
    "             if \"Load shedding\" in rh_net.generators.index else 0.0)\n",
    "\n",
    "    results.append({\n",
    "        'pair_idx': i,\n",
    "        'PF_key': name_pf,\n",
    "        'RH_key': name_rh,\n",
    "        'PF_cost_MEUR': round(pf_cost, 1),\n",
    "        'RH_cost_MEUR': round(rh_cost, 1),\n",
    "        'Difference_MEUR': round(diff, 1),\n",
    "        'PF_Load shedding_cost_MEUR': round(ls_pf, 1),\n",
    "        'RH_Load shedding_cost_MEUR': round(ls_rh, 1)\n",
    "    })\n",
    "\n",
    "results_df = pd.DataFrame(results)\n"
   ]
  },
  {
   "cell_type": "markdown",
   "id": "c9ef0db5",
   "metadata": {},
   "source": [
    "## Functions to calc results"
   ]
  },
  {
   "cell_type": "code",
   "execution_count": 11,
   "id": "8397be8a",
   "metadata": {},
   "outputs": [
    {
     "data": {
      "application/vnd.microsoft.datawrangler.viewer.v0+json": {
       "columns": [
        {
         "name": "index",
         "rawType": "int64",
         "type": "integer"
        },
        {
         "name": "name",
         "rawType": "object",
         "type": "string"
        },
        {
         "name": "carrier",
         "rawType": "object",
         "type": "string"
        },
        {
         "name": "revenue [MEUR]",
         "rawType": "float64",
         "type": "float"
        },
        {
         "name": "production cost [MEUR]",
         "rawType": "float64",
         "type": "float"
        },
        {
         "name": "capital cost [MEUR]",
         "rawType": "float64",
         "type": "float"
        },
        {
         "name": "total cost [MEUR]",
         "rawType": "float64",
         "type": "float"
        },
        {
         "name": "profit [MEUR]",
         "rawType": "float64",
         "type": "float"
        }
       ],
       "ref": "af25c6bb-28e0-4707-81c2-ee9764a98ba8",
       "rows": [
        [
         "0",
         "OCGT",
         "gas",
         "3212.5",
         "3212.5",
         "0.0",
         "3212.5",
         "0.0"
        ],
        [
         "1",
         "onwind",
         "onwind",
         "5671.4",
         "216.9",
         "0.0",
         "216.9",
         "5454.4"
        ],
        [
         "2",
         "solar",
         "solar",
         "1143.8",
         "0.4",
         "0.0",
         "0.4",
         "1143.5"
        ],
        [
         "3",
         "Load shedding",
         "load shedding",
         "0.0",
         "0.0",
         "0.0",
         "0.0",
         "0.0"
        ]
       ],
       "shape": {
        "columns": 7,
        "rows": 4
       }
      },
      "text/html": [
       "<div>\n",
       "<style scoped>\n",
       "    .dataframe tbody tr th:only-of-type {\n",
       "        vertical-align: middle;\n",
       "    }\n",
       "\n",
       "    .dataframe tbody tr th {\n",
       "        vertical-align: top;\n",
       "    }\n",
       "\n",
       "    .dataframe thead th {\n",
       "        text-align: right;\n",
       "    }\n",
       "</style>\n",
       "<table border=\"1\" class=\"dataframe\">\n",
       "  <thead>\n",
       "    <tr style=\"text-align: right;\">\n",
       "      <th></th>\n",
       "      <th>name</th>\n",
       "      <th>carrier</th>\n",
       "      <th>revenue [MEUR]</th>\n",
       "      <th>production cost [MEUR]</th>\n",
       "      <th>capital cost [MEUR]</th>\n",
       "      <th>total cost [MEUR]</th>\n",
       "      <th>profit [MEUR]</th>\n",
       "    </tr>\n",
       "  </thead>\n",
       "  <tbody>\n",
       "    <tr>\n",
       "      <th>0</th>\n",
       "      <td>OCGT</td>\n",
       "      <td>gas</td>\n",
       "      <td>3212.5</td>\n",
       "      <td>3212.5</td>\n",
       "      <td>0.0</td>\n",
       "      <td>3212.5</td>\n",
       "      <td>0.0</td>\n",
       "    </tr>\n",
       "    <tr>\n",
       "      <th>1</th>\n",
       "      <td>onwind</td>\n",
       "      <td>onwind</td>\n",
       "      <td>5671.4</td>\n",
       "      <td>216.9</td>\n",
       "      <td>0.0</td>\n",
       "      <td>216.9</td>\n",
       "      <td>5454.4</td>\n",
       "    </tr>\n",
       "    <tr>\n",
       "      <th>2</th>\n",
       "      <td>solar</td>\n",
       "      <td>solar</td>\n",
       "      <td>1143.8</td>\n",
       "      <td>0.4</td>\n",
       "      <td>0.0</td>\n",
       "      <td>0.4</td>\n",
       "      <td>1143.5</td>\n",
       "    </tr>\n",
       "    <tr>\n",
       "      <th>3</th>\n",
       "      <td>Load shedding</td>\n",
       "      <td>load shedding</td>\n",
       "      <td>0.0</td>\n",
       "      <td>0.0</td>\n",
       "      <td>0.0</td>\n",
       "      <td>0.0</td>\n",
       "      <td>0.0</td>\n",
       "    </tr>\n",
       "  </tbody>\n",
       "</table>\n",
       "</div>"
      ],
      "text/plain": [
       "            name        carrier  revenue [MEUR]  production cost [MEUR]  \\\n",
       "0           OCGT            gas          3212.5                  3212.5   \n",
       "1         onwind         onwind          5671.4                   216.9   \n",
       "2          solar          solar          1143.8                     0.4   \n",
       "3  Load shedding  load shedding             0.0                     0.0   \n",
       "\n",
       "   capital cost [MEUR]  total cost [MEUR]  profit [MEUR]  \n",
       "0                  0.0             3212.5            0.0  \n",
       "1                  0.0              216.9         5454.4  \n",
       "2                  0.0                0.4         1143.5  \n",
       "3                  0.0                0.0            0.0  "
      ]
     },
     "execution_count": 11,
     "metadata": {},
     "output_type": "execute_result"
    }
   ],
   "source": [
    "# FOR expansion model: \n",
    "\n",
    "def calculate_cost_recovery_generators(network):\n",
    "    results = []\n",
    "\n",
    "    for gen in network.generators.index:\n",
    "        carrier = network.generators.at[gen, \"carrier\"]\n",
    "        bus = network.generators.at[gen, \"bus\"]\n",
    "        p_nom = network.generators.at[gen, \"p_nom_opt\"]\n",
    "        \n",
    "        marginal_cost = network.generators.at[gen, \"marginal_cost\"]\n",
    "        \n",
    "        capital_cost = network.generators.at[gen, \"capital_cost\"]\n",
    "        \n",
    "        dispatch = network.generators_t.p[gen]\n",
    "        prices = network.buses_t.marginal_price[bus]\n",
    "\n",
    "        # Revenue: price * generation\n",
    "        revenue = (dispatch * prices).sum()\n",
    "\n",
    "        # Production cost: generation * marginal cost\n",
    "        production_cost = (dispatch * marginal_cost).sum()\n",
    "\n",
    "        # Capital cost: installed capacity * capital cost\n",
    "        capex = p_nom * capital_cost\n",
    "\n",
    "        # Profit = revenue - (capex + production cost)\n",
    "        profit = revenue - (capex + production_cost)\n",
    "\n",
    "        results.append({\n",
    "            \"name\": gen,\n",
    "            \"carrier\": carrier,\n",
    "            \"revenue [MEUR]\": round(revenue / 1e6, 1),\n",
    "            \"production cost [MEUR]\": round(production_cost / 1e6, 1),\n",
    "            \"capital cost [MEUR]\": round(capex / 1e6, 1),\n",
    "            \"total cost [MEUR]\": round((production_cost + capex) / 1e6, 1),\n",
    "            \"profit [MEUR]\": round(profit / 1e6, 1)\n",
    "        })\n",
    "\n",
    "    df_results = pd.DataFrame(results)\n",
    "    return df_results\n",
    "# Example: take the first network from networks_pf\n",
    "N = networks_pf[names_pf[0]]\n",
    "\n",
    "CR_N_exp = calculate_cost_recovery_generators(N)\n",
    "CR_N_exp"
   ]
  },
  {
   "cell_type": "markdown",
   "id": "749154d0",
   "metadata": {},
   "source": [
    "## Look at results"
   ]
  },
  {
   "cell_type": "code",
   "execution_count": null,
   "id": "99ec19e6",
   "metadata": {},
   "outputs": [],
   "source": []
  },
  {
   "cell_type": "markdown",
   "id": "6ea2d5a7",
   "metadata": {},
   "source": [
    "# Plot results"
   ]
  },
  {
   "cell_type": "markdown",
   "id": "d4182c5e",
   "metadata": {},
   "source": [
    "## Result type 1"
   ]
  },
  {
   "cell_type": "code",
   "execution_count": null,
   "id": "373c885c",
   "metadata": {},
   "outputs": [],
   "source": []
  }
 ],
 "metadata": {
  "kernelspec": {
   "display_name": "Python 3",
   "language": "python",
   "name": "python3"
  },
  "language_info": {
   "codemirror_mode": {
    "name": "ipython",
    "version": 3
   },
   "file_extension": ".py",
   "mimetype": "text/x-python",
   "name": "python",
   "nbconvert_exporter": "python",
   "pygments_lexer": "ipython3",
   "version": "3.11.9"
  }
 },
 "nbformat": 4,
 "nbformat_minor": 5
}
