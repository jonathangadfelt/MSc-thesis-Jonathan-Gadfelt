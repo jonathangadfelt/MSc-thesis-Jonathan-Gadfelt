{
 "cells": [
  {
   "cell_type": "markdown",
   "id": "50c8a9cc",
   "metadata": {},
   "source": [
    "# Test COST values"
   ]
  },
  {
   "cell_type": "code",
   "execution_count": null,
   "id": "139d0272",
   "metadata": {},
   "outputs": [
    {
     "data": {
      "application/vnd.microsoft.datawrangler.viewer.v0+json": {
       "columns": [
        {
         "name": "('technology', 'parameter')",
         "rawType": "object",
         "type": "unknown"
        },
        {
         "name": "value",
         "rawType": "float64",
         "type": "float"
        },
        {
         "name": "unit",
         "rawType": "object",
         "type": "string"
        },
        {
         "name": "source",
         "rawType": "object",
         "type": "string"
        },
        {
         "name": "further description",
         "rawType": "object",
         "type": "string"
        },
        {
         "name": "currency_year",
         "rawType": "float64",
         "type": "float"
        }
       ],
       "ref": "68789652-2029-4479-a87d-f8a0a8ce80dc",
       "rows": [
        [
         "('Alkaline electrolyzer large size', 'FOM')",
         "4.6",
         "%/year",
         "JRC, 01_JRC-EU-TIMES Full model, https://zenodo.org/records/3544900, file `SubRES_15_TECHS_HYDROGEN.xlsx`  (SELCH2EC01, H2 Production-Alkaline Electrolyser, large size, centralized) and currency year from file `SubRES_15_TECHS_HYDROGEN.xlsx`, Sheet `INPUT-Data(HP)`",
         "Reference capacity 72 MW",
         "2010.0"
        ],
        [
         "('Alkaline electrolyzer large size', 'VOM')",
         "0.2389",
         "EUR/MWh_H2",
         "JRC, 01_JRC-EU-TIMES Full model, https://zenodo.org/records/3544900, file `SubRES_15_TECHS_HYDROGEN.xlsx`  (SELCH2EC01, H2 Production-Alkaline Electrolyser, large size, centralized) and currency year from file `SubRES_15_TECHS_HYDROGEN.xlsx`, Sheet `INPUT-Data(HP)`",
         "Reference capacity 72 MW",
         "2010.0"
        ],
        [
         "('Alkaline electrolyzer large size', 'electricity-input')",
         "1.38",
         "MWh_el/MWh_H2",
         "JRC, 01_JRC-EU-TIMES Full model, https://zenodo.org/records/3544900, file `SubRES_15_TECHS_HYDROGEN.xlsx`  (SELCH2EC01, H2 Production-Alkaline Electrolyser, large size, centralized) and currency year from file `SubRES_15_TECHS_HYDROGEN.xlsx`, Sheet `INPUT-Data(HP)`",
         "Reference capacity 72 MW",
         null
        ],
        [
         "('Alkaline electrolyzer large size', 'investment')",
         "429.0306",
         "EUR/kW",
         "JRC, 01_JRC-EU-TIMES Full model, https://zenodo.org/records/3544900, file `SubRES_15_TECHS_HYDROGEN.xlsx`  (SELCH2EC01, H2 Production-Alkaline Electrolyser, large size, centralized) and currency year from file `SubRES_15_TECHS_HYDROGEN.xlsx`, Sheet `INPUT-Data(HP)`",
         "Reference capacity 72 MW",
         "2010.0"
        ],
        [
         "('Alkaline electrolyzer large size', 'lifetime')",
         "40.0",
         "years",
         "JRC, 01_JRC-EU-TIMES Full model, https://zenodo.org/records/3544900, file `SubRES_15_TECHS_HYDROGEN.xlsx`  (SELCH2EC01, H2 Production-Alkaline Electrolyser, large size, centralized) and currency year from file `SubRES_15_TECHS_HYDROGEN.xlsx`, Sheet `INPUT-Data(HP)`",
         "Reference capacity 72 MW",
         null
        ]
       ],
       "shape": {
        "columns": 5,
        "rows": 5
       }
      },
      "text/html": [
       "<div>\n",
       "<style scoped>\n",
       "    .dataframe tbody tr th:only-of-type {\n",
       "        vertical-align: middle;\n",
       "    }\n",
       "\n",
       "    .dataframe tbody tr th {\n",
       "        vertical-align: top;\n",
       "    }\n",
       "\n",
       "    .dataframe thead th {\n",
       "        text-align: right;\n",
       "    }\n",
       "</style>\n",
       "<table border=\"1\" class=\"dataframe\">\n",
       "  <thead>\n",
       "    <tr style=\"text-align: right;\">\n",
       "      <th></th>\n",
       "      <th></th>\n",
       "      <th>value</th>\n",
       "      <th>unit</th>\n",
       "      <th>source</th>\n",
       "      <th>further description</th>\n",
       "      <th>currency_year</th>\n",
       "    </tr>\n",
       "    <tr>\n",
       "      <th>technology</th>\n",
       "      <th>parameter</th>\n",
       "      <th></th>\n",
       "      <th></th>\n",
       "      <th></th>\n",
       "      <th></th>\n",
       "      <th></th>\n",
       "    </tr>\n",
       "  </thead>\n",
       "  <tbody>\n",
       "    <tr>\n",
       "      <th rowspan=\"5\" valign=\"top\">Alkaline electrolyzer large size</th>\n",
       "      <th>FOM</th>\n",
       "      <td>4.6000</td>\n",
       "      <td>%/year</td>\n",
       "      <td>JRC, 01_JRC-EU-TIMES Full model, https://zenod...</td>\n",
       "      <td>Reference capacity 72 MW</td>\n",
       "      <td>2010.0</td>\n",
       "    </tr>\n",
       "    <tr>\n",
       "      <th>VOM</th>\n",
       "      <td>0.2389</td>\n",
       "      <td>EUR/MWh_H2</td>\n",
       "      <td>JRC, 01_JRC-EU-TIMES Full model, https://zenod...</td>\n",
       "      <td>Reference capacity 72 MW</td>\n",
       "      <td>2010.0</td>\n",
       "    </tr>\n",
       "    <tr>\n",
       "      <th>electricity-input</th>\n",
       "      <td>1.3800</td>\n",
       "      <td>MWh_el/MWh_H2</td>\n",
       "      <td>JRC, 01_JRC-EU-TIMES Full model, https://zenod...</td>\n",
       "      <td>Reference capacity 72 MW</td>\n",
       "      <td>NaN</td>\n",
       "    </tr>\n",
       "    <tr>\n",
       "      <th>investment</th>\n",
       "      <td>429.0306</td>\n",
       "      <td>EUR/kW</td>\n",
       "      <td>JRC, 01_JRC-EU-TIMES Full model, https://zenod...</td>\n",
       "      <td>Reference capacity 72 MW</td>\n",
       "      <td>2010.0</td>\n",
       "    </tr>\n",
       "    <tr>\n",
       "      <th>lifetime</th>\n",
       "      <td>40.0000</td>\n",
       "      <td>years</td>\n",
       "      <td>JRC, 01_JRC-EU-TIMES Full model, https://zenod...</td>\n",
       "      <td>Reference capacity 72 MW</td>\n",
       "      <td>NaN</td>\n",
       "    </tr>\n",
       "  </tbody>\n",
       "</table>\n",
       "</div>"
      ],
      "text/plain": [
       "                                                       value           unit  \\\n",
       "technology                       parameter                                    \n",
       "Alkaline electrolyzer large size FOM                  4.6000         %/year   \n",
       "                                 VOM                  0.2389     EUR/MWh_H2   \n",
       "                                 electricity-input    1.3800  MWh_el/MWh_H2   \n",
       "                                 investment         429.0306         EUR/kW   \n",
       "                                 lifetime            40.0000          years   \n",
       "\n",
       "                                                                                               source  \\\n",
       "technology                       parameter                                                              \n",
       "Alkaline electrolyzer large size FOM                JRC, 01_JRC-EU-TIMES Full model, https://zenod...   \n",
       "                                 VOM                JRC, 01_JRC-EU-TIMES Full model, https://zenod...   \n",
       "                                 electricity-input  JRC, 01_JRC-EU-TIMES Full model, https://zenod...   \n",
       "                                 investment         JRC, 01_JRC-EU-TIMES Full model, https://zenod...   \n",
       "                                 lifetime           JRC, 01_JRC-EU-TIMES Full model, https://zenod...   \n",
       "\n",
       "                                                         further description  \\\n",
       "technology                       parameter                                     \n",
       "Alkaline electrolyzer large size FOM                Reference capacity 72 MW   \n",
       "                                 VOM                Reference capacity 72 MW   \n",
       "                                 electricity-input  Reference capacity 72 MW   \n",
       "                                 investment         Reference capacity 72 MW   \n",
       "                                 lifetime           Reference capacity 72 MW   \n",
       "\n",
       "                                                    currency_year  \n",
       "technology                       parameter                         \n",
       "Alkaline electrolyzer large size FOM                       2010.0  \n",
       "                                 VOM                       2010.0  \n",
       "                                 electricity-input            NaN  \n",
       "                                 investment                2010.0  \n",
       "                                 lifetime                     NaN  "
      ]
     },
     "metadata": {},
     "output_type": "display_data"
    }
   ],
   "source": [
    "url = f\"https://raw.githubusercontent.com/PyPSA/technology-data/master/outputs/costs_{2025}.csv\"\n",
    "df = pd.read_csv(url, index_col=[0, 1])\n",
    "df.head()"
   ]
  },
  {
   "cell_type": "code",
   "execution_count": null,
   "id": "50c0f15e",
   "metadata": {},
   "outputs": [
    {
     "data": {
      "text/plain": [
       "{'OCGT': ['EUR/kW'],\n",
       " 'CCGT': ['EUR/kW'],\n",
       " 'battery storage': ['EUR/kWh'],\n",
       " 'onwind': ['EUR/kW'],\n",
       " 'offwind': ['EUR/kW_e, 2020'],\n",
       " 'solar': ['EUR/kW_e'],\n",
       " 'electrolysis': ['EUR/kW_e'],\n",
       " 'fuel cell': ['EUR/kW_e'],\n",
       " 'Hydrogen storage': [],\n",
       " 'Reservoir hydro storage': [],\n",
       " 'Load shedding': []}"
      ]
     },
     "metadata": {},
     "output_type": "display_data"
    }
   ],
   "source": [
    "investment_units = df[df.index.get_level_values(1).str.contains(\"investment\")][\"unit\"].unique().tolist()\n",
    "investment_units\n",
    "\n",
    "tech_units = {}\n",
    "for tech in setup_exp[region]:\n",
    "    # Find all units for this technology in the cost dataframe, only for parameter 'investment'\n",
    "    units = df.loc[(df.index.get_level_values(0) == tech) & (df.index.get_level_values(1) == \"investment\"), \"unit\"].unique().tolist()\n",
    "    tech_units[tech] = units\n",
    "\n",
    "tech_units"
   ]
  },
  {
   "cell_type": "code",
   "execution_count": null,
   "id": "8337a464",
   "metadata": {},
   "outputs": [
    {
     "name": "stdout",
     "output_type": "stream",
     "text": [
      "Investment cost for 'OCGT':\n",
      "  Unit: EUR/kW, Value: 470.4853\n",
      "  Lifetime: 25.0\n",
      "  FOM: 1.7784\n",
      "Investment cost for 'CCGT':\n",
      "  Unit: EUR/kW, Value: 904.7795\n",
      "  Lifetime: 25.0\n",
      "  FOM: 3.3392\n",
      "Investment cost for 'battery storage':\n",
      "  Unit: EUR/kWh, Value: 198.8558\n",
      "  Lifetime: 22.5\n",
      "  FOM: None\n",
      "Investment cost for 'onwind':\n",
      "  Unit: EUR/kW, Value: 1139.8826\n",
      "  Lifetime: 28.5\n",
      "  FOM: 1.2347\n",
      "Investment cost for 'offwind':\n",
      "  Unit: EUR/kW_e, 2020, Value: 1769.1171\n",
      "  Lifetime: 30.0\n",
      "  FOM: 2.3741\n",
      "Investment cost for 'solar':\n",
      "  Unit: EUR/kW_e, Value: 676.5703\n",
      "  Lifetime: 37.5\n",
      "  FOM: 1.7275\n",
      "Investment cost for 'electrolysis':\n",
      "  Unit: EUR/kW_e, Value: 1800.0\n",
      "  Lifetime: 25.0\n",
      "  FOM: 4.0\n",
      "Investment cost for 'fuel cell':\n",
      "  Unit: EUR/kW_e, Value: 1269.866\n",
      "  Lifetime: 10.0\n",
      "  FOM: 5.0\n",
      "Investment cost for 'Hydrogen storage':\n",
      "  No investment cost unit found.\n",
      "  Lifetime: None\n",
      "  FOM: None\n",
      "Investment cost for 'Reservoir hydro storage':\n",
      "  No investment cost unit found.\n",
      "  Lifetime: None\n",
      "  FOM: None\n",
      "Investment cost for 'Load shedding':\n",
      "  No investment cost unit found.\n",
      "  Lifetime: None\n",
      "  FOM: None\n"
     ]
    }
   ],
   "source": [
    "for tech in setup_exp[region]:\n",
    "    print(f\"Investment cost for '{tech}':\")\n",
    "    if tech in tech_units and tech_units[tech]:\n",
    "        for unit in tech_units[tech]:\n",
    "            value = df.loc[(tech, \"investment\"), \"value\"] if (tech, \"investment\") in df.index else None\n",
    "            print(f\"  Unit: {unit}, Value: {value}\")\n",
    "    else:\n",
    "        print(\"  No investment cost unit found.\")\n",
    "\n",
    "    # Include lifetime parameter\n",
    "    lifetime = df.loc[(tech, \"lifetime\"), \"value\"] if (tech, \"lifetime\") in df.index else None\n",
    "    print(f\"  Lifetime: {lifetime}\")\n",
    "\n",
    "    # Include FOM parameter\n",
    "    fom = df.loc[(tech, \"FOM\"), \"value\"] if (tech, \"FOM\") in df.index else None\n",
    "    print(f\"  FOM: {fom}\")"
   ]
  },
  {
   "cell_type": "code",
   "execution_count": null,
   "id": "06f68674",
   "metadata": {},
   "outputs": [
    {
     "name": "stdout",
     "output_type": "stream",
     "text": [
      "OCGT: 48739.70 EUR/MW | Unit: EUR/MW\n",
      "battery storage: 17805.06 EUR/MW | Unit: EUR/MWh\n",
      "onwind: 107441.46 EUR/MW | Unit: EUR/MW\n",
      "solar: 63114.92 EUR/MW | Unit: EUR/MW_e\n",
      "electrolysis: 226458.93 EUR/MW | Unit: EUR/MW_e\n",
      "fuel cell: 244293.65 EUR/MW | Unit: EUR/MW_e\n",
      "battery inverter: 33126.23 EUR/MW | Unit: EUR/MW\n"
     ]
    }
   ],
   "source": [
    "for tech, active in setup[region].items():\n",
    "    if active and tech in Cost.costs.index:\n",
    "        cap_cost = Cost.costs.loc[tech, \"capital_cost\"]\n",
    "        unit = Cost.units.get((tech, \"investment\"), \"\")\n",
    "        print(f\"{tech}: {cap_cost:.2f} EUR/MW | Unit: {unit}\")\n",
    "\n",
    "# Also look up battery inverter and battery storage\n",
    "if \"battery inverter\" in Cost.costs.index:\n",
    "    cap_cost_battery_inv = Cost.costs.loc[\"battery inverter\", \"capital_cost\"]\n",
    "    unit_battery_inv = Cost.units.get((\"battery inverter\", \"investment\"), \"\")\n",
    "    print(f\"battery inverter: {cap_cost_battery_inv:.2f} EUR/MW | Unit: {unit_battery_inv}\")\n",
    "\n"
   ]
  },
  {
   "cell_type": "code",
   "execution_count": null,
   "id": "06a9ad34",
   "metadata": {},
   "outputs": [],
   "source": [
    "# JUST THE PRINT\n",
    "def print_costs(network):\n",
    "    gens = network.generators[[\"carrier\", \"capital_cost\", \"marginal_cost\"]].copy()\n",
    "    gens[\"type\"] = \"generator\"\n",
    "\n",
    "    sus = network.storage_units[[\"carrier\", \"capital_cost\", \"marginal_cost\"]].copy()\n",
    "    sus[\"type\"] = \"storage\"\n",
    "\n",
    "    df = pd.concat([gens, sus])\n",
    "    df.reset_index(inplace=True)\n",
    "    df.rename(columns={\"index\": \"name\"}, inplace=True)\n",
    "\n",
    "    print(df[[\"name\", \"type\", \"carrier\", \"capital_cost\", \"marginal_cost\"]])\n",
    "print(\" COST FOR PERFECT FORESIGHT NETWORK \")"
   ]
  },
  {
   "cell_type": "code",
   "execution_count": null,
   "id": "14caba3a",
   "metadata": {},
   "outputs": [],
   "source": [
    "# WITH DF \n",
    "def print_costs(network):\n",
    "    # Generators\n",
    "    gens = network.generators[[\"carrier\", \"capital_cost\", \"marginal_cost\"]].copy()\n",
    "    gens[\"type\"] = \"generator\"\n",
    "\n",
    "    # Storage Units\n",
    "    sus = network.storage_units[[\"carrier\", \"capital_cost\", \"marginal_cost\"]].copy()\n",
    "    sus[\"type\"] = \"storage\"\n",
    "\n",
    "    # Combine\n",
    "    df = pd.concat([gens, sus])\n",
    "    df.reset_index(inplace=True)\n",
    "    df.rename(columns={\"index\": \"name\"}, inplace=True)\n",
    "\n",
    "    # Print nicely\n",
    "    pd.set_option(\"display.max_rows\", None)\n",
    "    pd.set_option(\"display.max_columns\", None)\n",
    "    pd.set_option(\"display.width\", 120)\n",
    "    pd.set_option(\"display.float_format\", \"{:,.2f}\".format)\n",
    "\n",
    "    print(df[[\"name\", \"type\", \"carrier\", \"capital_cost\", \"marginal_cost\"]])\n",
    "\n",
    "    return df"
   ]
  }
 ],
 "metadata": {
  "language_info": {
   "name": "python"
  }
 },
 "nbformat": 4,
 "nbformat_minor": 5
}
